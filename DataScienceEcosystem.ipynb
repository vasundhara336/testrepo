{
 "cells": [
  {
   "cell_type": "markdown",
   "id": "efd070e4-d268-4ec7-b624-734a403321ef",
   "metadata": {},
   "source": [
    "#Data Science Tools and Ecosystem\n"
   ]
  },
  {
   "cell_type": "markdown",
   "id": "ca7ca2aa-4175-428c-8b1f-a78923f56355",
   "metadata": {},
   "source": [
    "##In this notebook, Data Science Tools and Ecosystem are summarized.\n"
   ]
  },
  {
   "cell_type": "markdown",
   "id": "18d7e8ce-6afc-44ac-84bf-4c465ee39d9e",
   "metadata": {},
   "source": [
    "#Some of the popular languages that Data Scientists use are:\n",
    "Python.\n",
    "R.\n",
    "SQL.\n",
    "Java.\n",
    "Julia.\n",
    "Scala.\n",
    "C/C++\n",
    "JavaScript."
   ]
  },
  {
   "cell_type": "markdown",
   "id": "0eef6450-f6a6-446f-a182-f2f313f6b9ab",
   "metadata": {},
   "source": [
    "#Some of the commonly used libraries used by Data Scientists include:\n",
    "TensorFlow.\n",
    "NumPy\n",
    "SciPy.\n",
    "Pandas.\n",
    "Matplotlib\n",
    "Keras.\n",
    "SciKit-Learn.\n",
    "PyTorch."
   ]
  },
  {
   "cell_type": "markdown",
   "id": "3a14a8eb-7297-49d0-b4de-776081aa218f",
   "metadata": {},
   "source": [
    "#Data Science Tools\n",
    "BigML\n",
    "D3\n",
    "MATLAB\n",
    "Excel\n",
    "ggplot2\n",
    "Tableau"
   ]
  },
  {
   "cell_type": "markdown",
   "id": "b941806f-08a5-4c80-b250-48d21f91e22c",
   "metadata": {},
   "source": [
    "###Below are a few examples of evaluating arithmetic expressions in Python.\n"
   ]
  },
  {
   "cell_type": "code",
   "execution_count": 2,
   "id": "c87ba83c-25ad-438f-86ed-23b6b1618bad",
   "metadata": {},
   "outputs": [
    {
     "data": {
      "text/plain": [
       "17"
      ]
     },
     "execution_count": 2,
     "metadata": {},
     "output_type": "execute_result"
    }
   ],
   "source": [
    "(3*4)+5\n",
    "#This a simple arithmetic expression to mutiply then add integers."
   ]
  },
  {
   "cell_type": "code",
   "execution_count": 5,
   "id": "00e7aea4-eb1a-4f26-a292-7be0101ea3b4",
   "metadata": {},
   "outputs": [
    {
     "name": "stdout",
     "output_type": "stream",
     "text": [
      "3:20\n"
     ]
    }
   ],
   "source": [
    "total_minutes = 200\n",
    "\n",
    "# Get hours with floor division\n",
    "hours = total_minutes // 60\n",
    "\n",
    "# Get additional minutes with modulus\n",
    "minutes = total_minutes % 60\n",
    "\n",
    "# Create time as a string\n",
    "time = \"{}:{}\".format(hours, minutes)\n",
    "\n",
    "print(time)\n",
    "#This will convert 200 minutes to hours by diving by 60."
   ]
  },
  {
   "cell_type": "markdown",
   "id": "530eb45a-67ee-44bd-9aa3-4f9abda38eda",
   "metadata": {},
   "source": [
    "#List popular languages for Data Science\n",
    "Python.\n",
    "R.\n",
    "SQL.\n",
    "Java.\n",
    "Julia.\n",
    "Scala.\n",
    "C/C++\n",
    "JavaScript."
   ]
  },
  {
   "cell_type": "markdown",
   "id": "daac96ed-42b3-41c2-b542-929584c68781",
   "metadata": {},
   "source": [
    "##Author \n",
    "Vasundhara"
   ]
  }
 ],
 "metadata": {
  "kernelspec": {
   "display_name": "Python",
   "language": "python",
   "name": "conda-env-python-py"
  },
  "language_info": {
   "codemirror_mode": {
    "name": "ipython",
    "version": 3
   },
   "file_extension": ".py",
   "mimetype": "text/x-python",
   "name": "python",
   "nbconvert_exporter": "python",
   "pygments_lexer": "ipython3",
   "version": "3.7.12"
  }
 },
 "nbformat": 4,
 "nbformat_minor": 5
}
